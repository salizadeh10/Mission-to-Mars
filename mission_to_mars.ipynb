{
 "cells": [
  {
   "cell_type": "code",
   "execution_count": 1,
   "metadata": {},
   "outputs": [],
   "source": [
    "from splinter import Browser\n",
    "from bs4 import BeautifulSoup\n",
    "import requests, time\n",
    "import pandas as pd"
   ]
  },
  {
   "cell_type": "code",
   "execution_count": 2,
   "metadata": {},
   "outputs": [],
   "source": [
    "def init_browser():\n",
    "    # @NOTE: Replace the path with your actual path to the chromedriver\n",
    "    executable_path = {'executable_path': '/usr/local/bin/chromedriver'}\n",
    "    return Browser('chrome', **executable_path, headless=False)\n"
   ]
  },
  {
   "cell_type": "code",
   "execution_count": 3,
   "metadata": {},
   "outputs": [],
   "source": [
    "# Fire up browser \n",
    "browser = init_browser()"
   ]
  },
  {
   "cell_type": "code",
   "execution_count": 4,
   "metadata": {},
   "outputs": [],
   "source": [
    "# Declare the dictionary which will hold all the information scraped and rendered on HTML pages\n",
    "mars_mission_dict = {}"
   ]
  },
  {
   "cell_type": "code",
   "execution_count": 5,
   "metadata": {},
   "outputs": [],
   "source": [
    "# Create BeautifulSoup object and parse\n",
    "def create_soup_obj():\n",
    "    \n",
    "    html = browser.html\n",
    "    soup = BeautifulSoup(html, 'lxml')\n",
    "    \n",
    "    return soup"
   ]
  },
  {
   "cell_type": "code",
   "execution_count": 6,
   "metadata": {},
   "outputs": [],
   "source": [
    "### NASA Mars News\n",
    "# Scrape the [NASA Mars News Site](https://mars.nasa.gov/news/) \n",
    "# and collect the latest News Title and Paragraph Text. Assign the text \n",
    "# to variables that you can reference later.\n",
    "\n",
    "url = 'https://mars.nasa.gov/news/'\n",
    "browser.visit(url)\n",
    "\n",
    "# Create BeautifulSoup object and parse\n",
    "soup = create_soup_obj()\n",
    "\n",
    "mars_mission_dict['news_title'] = soup.find('div', class_='content_title').text\n",
    "mars_mission_dict['news_paragraph'] = soup.find('div', class_='article_teaser_body').text"
   ]
  },
  {
   "cell_type": "code",
   "execution_count": 7,
   "metadata": {},
   "outputs": [],
   "source": [
    "### JPL Mars Space Images - Featured Image\n",
    "# Visit the url for JPL Featured Space Image [here]\n",
    "# (https://www.jpl.nasa.gov/spaceimages/?search=&category=Mars).\n",
    "\n",
    "url = 'https://www.jpl.nasa.gov/spaceimages/?search=&category=Mars'\n",
    "browser.visit(url)\n",
    "\n",
    "# Moving through the pages and giving time to search and scrape\n",
    "time.sleep(2)\n",
    "browser.click_link_by_partial_text('FULL IMAGE')\n",
    "time.sleep(2)\n",
    "browser.click_link_by_partial_text('more info')\n",
    "time.sleep(2)\n",
    "\n",
    "# Create BeautifulSoup object and parse\n",
    "soup = create_soup_obj()\n",
    "\n",
    "# Get featured image\n",
    "results = soup.find('article')\n",
    "extension = results.find('figure', 'lede').a['href']\n",
    "link = \"https://www.jpl.nasa.gov\"\n",
    "featured_image_url = link + extension\n",
    "\n",
    "mars_mission_dict['featured_image'] = featured_image_url"
   ]
  },
  {
   "cell_type": "code",
   "execution_count": 8,
   "metadata": {},
   "outputs": [],
   "source": [
    "#### Mars Weather\n",
    "# Visit the Mars Weather twitter account [here](https://twitter.com/marswxreport?lang=en)\n",
    "# and scrape the latest Mars weather tweet from the page. \n",
    "# Save the tweet text for the weather report as a variable called `mars_weather`.\n",
    "\n",
    "url = 'https://twitter.com/marswxreport?lang=en'\n",
    "browser.visit(url)\n",
    "\n",
    "## Create BeautifulSoup object and parse\n",
    "soup = create_soup_obj()\n",
    "\n",
    "# Get wheather report and store in mars dict\n",
    "mars_mission_dict['mars_weather'] = soup.find('div', class_='js-tweet-text-container').text"
   ]
  },
  {
   "cell_type": "code",
   "execution_count": 9,
   "metadata": {},
   "outputs": [],
   "source": [
    "### Mars Facts\n",
    "# Visit the Mars Facts webpage [here](http://space-facts.com/mars/) and \n",
    "# use Pandas to scrape the table containing facts about the planet \n",
    "# including Diameter, Mass, etc.\n",
    "# Use Pandas to convert the data to a HTML table string.\n",
    "\n",
    "url = 'http://space-facts.com/mars/'    \n",
    "mars_facts_table = pd.read_html(url)\n",
    "\n",
    "# Convert to dataframe and tidy it up\n",
    "mars_facts_df = mars_facts_table[0]\n",
    "mars_facts_df.columns = ['Mars Facts', 'Value']\n",
    "\n",
    "mars_facts_df.set_index('Mars Facts', inplace=True)\n",
    "mars_facts_table = mars_facts_df.to_html()\n",
    "\n",
    "mars_mission_dict['mars_facts'] =  mars_facts_table                              "
   ]
  },
  {
   "cell_type": "code",
   "execution_count": 10,
   "metadata": {
    "scrolled": true
   },
   "outputs": [
    {
     "data": {
      "text/plain": [
       "{'featured_image': 'https://www.jpl.nasa.gov/spaceimages/images/largesize/PIA18289_hires.jpg',\n",
       " 'hemisphere_image_urls': [{'img_url': 'http://astropedia.astrogeology.usgs.gov/download/Mars/Viking/cerberus_enhanced.tif/full.jpg',\n",
       "   'title': 'Cerberus Hemisphere Enhanced'},\n",
       "  {'img_url': 'http://astropedia.astrogeology.usgs.gov/download/Mars/Viking/schiaparelli_enhanced.tif/full.jpg',\n",
       "   'title': 'Schiaparelli Hemisphere Enhanced'},\n",
       "  {'img_url': 'http://astropedia.astrogeology.usgs.gov/download/Mars/Viking/syrtis_major_enhanced.tif/full.jpg',\n",
       "   'title': 'Syrtis Major Hemisphere Enhanced'},\n",
       "  {'img_url': 'http://astropedia.astrogeology.usgs.gov/download/Mars/Viking/valles_marineris_enhanced.tif/full.jpg',\n",
       "   'title': 'Valles Marineris Hemisphere Enhanced'}],\n",
       " 'mars_facts': '<table border=\"1\" class=\"dataframe\">\\n  <thead>\\n    <tr style=\"text-align: right;\">\\n      <th></th>\\n      <th>Value</th>\\n    </tr>\\n    <tr>\\n      <th>Mars Facts</th>\\n      <th></th>\\n    </tr>\\n  </thead>\\n  <tbody>\\n    <tr>\\n      <th>Equatorial Diameter:</th>\\n      <td>6,792 km</td>\\n    </tr>\\n    <tr>\\n      <th>Polar Diameter:</th>\\n      <td>6,752 km</td>\\n    </tr>\\n    <tr>\\n      <th>Mass:</th>\\n      <td>6.42 x 10^23 kg (10.7% Earth)</td>\\n    </tr>\\n    <tr>\\n      <th>Moons:</th>\\n      <td>2 (Phobos &amp; Deimos)</td>\\n    </tr>\\n    <tr>\\n      <th>Orbit Distance:</th>\\n      <td>227,943,824 km (1.52 AU)</td>\\n    </tr>\\n    <tr>\\n      <th>Orbit Period:</th>\\n      <td>687 days (1.9 years)</td>\\n    </tr>\\n    <tr>\\n      <th>Surface Temperature:</th>\\n      <td>-153 to 20 °C</td>\\n    </tr>\\n    <tr>\\n      <th>First Record:</th>\\n      <td>2nd millennium BC</td>\\n    </tr>\\n    <tr>\\n      <th>Recorded By:</th>\\n      <td>Egyptian astronomers</td>\\n    </tr>\\n  </tbody>\\n</table>',\n",
       " 'mars_weather': '\\nSol 2213 (2018-10-27), high -12C/10F, low -70C/-93F, pressure at 8.74 hPa, daylight 06:11-18:29\\n',\n",
       " 'news_paragraph': \"NASA engineers will be holding their breath when their spacecraft heads into Mars' atmosphere on Nov. 26.\",\n",
       " 'news_title': \"Five Things to Know About InSight's Mars Landing\"}"
      ]
     },
     "execution_count": 10,
     "metadata": {},
     "output_type": "execute_result"
    }
   ],
   "source": [
    "# Function to receive url and partial text of a link and return the full link in a dictionary\n",
    "\n",
    "url = 'https://astrogeology.usgs.gov/search/results?q=hemisphere+enhanced&k1=target&v1=Mars'   \n",
    "\n",
    "hemispheres = ['Cerberus Hemisphere Enhanced', 'Schiaparelli Hemisphere Enhanced', \\\n",
    "               'Syrtis Major Hemisphere Enhanced', 'Valles Marineris Hemisphere Enhanced']\n",
    "\n",
    "hemisphere_image_urls = []\n",
    "image_urls_dict = {}\n",
    "               \n",
    "for hemisphere in hemispheres:\n",
    "    \n",
    "    browser.visit(url)\n",
    "\n",
    "    # Moving through pages\n",
    "    time.sleep(2)\n",
    "    browser.click_link_by_partial_text(hemisphere)\n",
    "\n",
    "    #Create BeautifulSoup object and parse\n",
    "    soup = create_soup_obj()\n",
    "\n",
    "    # Save link to Cerberus image\n",
    "    link = soup.find('div', 'downloads').a['href']\n",
    "    \n",
    "    image_urls_dict = {'title': hemisphere, 'img_url': link}\n",
    "    \n",
    "    hemisphere_image_urls.append(image_urls_dict)\n",
    "    \n",
    "    #hemisphere_image_urls.append(image_urls_dict)\n",
    "\n",
    "mars_mission_dict['hemisphere_image_urls'] = hemisphere_image_urls\n",
    "\n",
    "mars_mission_dict"
   ]
  },
  {
   "cell_type": "code",
   "execution_count": 11,
   "metadata": {},
   "outputs": [],
   "source": [
    "# close the browser\n",
    "browser.quit()"
   ]
  },
  {
   "cell_type": "code",
   "execution_count": 12,
   "metadata": {},
   "outputs": [
    {
     "name": "stdout",
     "output_type": "stream",
     "text": [
      "[NbConvertApp] Converting notebook mission_to_mars.ipynb to script\n",
      "[NbConvertApp] Writing 5361 bytes to mission_to_mars.py\n"
     ]
    }
   ],
   "source": [
    "!jupyter nbconvert --to script mission_to_mars.ipynb"
   ]
  },
  {
   "cell_type": "code",
   "execution_count": null,
   "metadata": {},
   "outputs": [],
   "source": []
  }
 ],
 "metadata": {
  "kernelspec": {
   "display_name": "Python [conda env:anaconda3]",
   "language": "python",
   "name": "conda-env-anaconda3-py"
  },
  "language_info": {
   "codemirror_mode": {
    "name": "ipython",
    "version": 3
   },
   "file_extension": ".py",
   "mimetype": "text/x-python",
   "name": "python",
   "nbconvert_exporter": "python",
   "pygments_lexer": "ipython3",
   "version": "3.6.6"
  }
 },
 "nbformat": 4,
 "nbformat_minor": 2
}
